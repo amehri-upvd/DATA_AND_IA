{
 "cells": [
  {
   "cell_type": "markdown",
   "id": "d76e875b",
   "metadata": {},
   "source": [
    "# Traitement statistique des données ( Séance 5)"
   ]
  },
  {
   "cell_type": "code",
   "execution_count": 1,
   "id": "64714fc6",
   "metadata": {},
   "outputs": [],
   "source": [
    "# Notre texte (corpus) qu'on va le traiter\n",
    "#Methode 1 : écriture de notre texte dans un vecteur\n",
    "corpus = [\n",
    "    \"Deep learning has made significant progress in recent years, and has even outperformed humans on many tasks like image classification.\",\n",
    "    \"Similarly, the success of reinforcement learning to show super-human performance in some games that require sequential planning has been quite extraordinary.\",\n",
    "    \"Therefore, it is tempting to posit that artificial intelligence might eventually come close to or even exceed the abilities of humans in a more generic way. \",\n",
    "    \"However, there are several fundamental technical hurdles that need to be crossed before we can build machines that learn and think like people.\"\n",
    "]"
   ]
  },
  {
   "cell_type": "code",
   "execution_count": null,
   "id": "64aa032c",
   "metadata": {},
   "outputs": [],
   "source": [
    "#Methode 2\n",
    "#lecture de notre text à partir d'un fichier avec readlines\n",
    "texte = open (\" texte.txt\",\"r\")\n",
    "lignes = texte.readlines ()\n",
    "texte.close ()"
   ]
  },
  {
   "cell_type": "markdown",
   "id": "ff20342b",
   "metadata": {},
   "source": [
    "# Exercice 1 : \n",
    "L'objet qui contient l'équivalent de corpus dans le deuxième code est lignes.\n",
    "Les deux méthodes ne donnent pas exactement le même résultat.\n",
    "La première méthode stocke directement les phrases dans une liste, \n",
    "alors que la deuxième méthode lit les lignes d'un fichier texte, \n",
    "ce qui peut inclure des caractères de nouvelle ligne \n",
    "ou d'autres variations en fonction du formatage du fichier texte."
   ]
  },
  {
   "cell_type": "code",
   "execution_count": 2,
   "id": "1227e0e2",
   "metadata": {},
   "outputs": [],
   "source": [
    "from gensim.models import Word2Vec"
   ]
  },
  {
   "cell_type": "code",
   "execution_count": 3,
   "id": "1e951da4",
   "metadata": {
    "scrolled": true
   },
   "outputs": [
    {
     "name": "stdout",
     "output_type": "stream",
     "text": [
      "tokenized_corpus : [['deep', 'learning', 'has', 'made', 'significant', 'progress', 'in', 'recent', 'years,', 'and', 'has', 'even', 'outperformed', 'humans', 'on', 'many', 'tasks', 'like', 'image', 'classification.'], ['similarly,', 'the', 'success', 'of', 'reinforcement', 'learning', 'to', 'show', 'super-human', 'performance', 'in', 'some', 'games', 'that', 'require', 'sequential', 'planning', 'has', 'been', 'quite', 'extraordinary.'], ['therefore,', 'it', 'is', 'tempting', 'to', 'posit', 'that', 'artificial', 'intelligence', 'might', 'eventually', 'come', 'close', 'to', 'or', 'even', 'exceed', 'the', 'abilities', 'of', 'humans', 'in', 'a', 'more', 'generic', 'way.'], ['however,', 'there', 'are', 'several', 'fundamental', 'technical', 'hurdles', 'that', 'need', 'to', 'be', 'crossed', 'before', 'we', 'can', 'build', 'machines', 'that', 'learn', 'and', 'think', 'like', 'people.']]\n"
     ]
    }
   ],
   "source": [
    "#On découpe notre corpus en mots\n",
    "tokenized_corpus =[sentence.lower().split () for sentence in corpus]\n",
    "print(\"tokenized_corpus :\",tokenized_corpus)"
   ]
  },
  {
   "cell_type": "markdown",
   "id": "3a3aaedd",
   "metadata": {},
   "source": [
    "# Exercice 2 : \n",
    "L'objet créé est une liste de listes appelée tokenized_corpus.\n",
    "Chaque sous-liste contient les mots d'une phrase du corpus, convertis en minuscules et séparés."
   ]
  },
  {
   "cell_type": "code",
   "execution_count": 4,
   "id": "f2d05034",
   "metadata": {},
   "outputs": [
    {
     "name": "stdout",
     "output_type": "stream",
     "text": [
      "model : Word2Vec<vocab=73, vector_size=100, alpha=0.025>\n"
     ]
    }
   ],
   "source": [
    "# création de notre modèle avec Word2Vec\n",
    "model = Word2Vec (sentences = tokenized_corpus, vector_size =100 , window =5 , min_count =1 , sg =0)\n",
    "print(\"model :\",model)"
   ]
  },
  {
   "cell_type": "markdown",
   "id": "b58f7745",
   "metadata": {},
   "source": [
    "\n",
    "# Exercice 3: \n",
    "\n",
    "Les paramètres de la fonction Word2Vec sont :\n",
    "\n",
    "* sentences : Le corpus tokenisé.\n",
    "* vector_size : La dimensionnalité des vecteurs de mots.\n",
    "* window : La taille de la fenêtre de contexte.\n",
    "* min_count : Le nombre minimum d'occurrences d'un mot pour être pris en compte.\n",
    "* sg : L'algorithme de formation à utiliser : 1 pour Skip-Gram, 0 pour CBOW."
   ]
  },
  {
   "cell_type": "code",
   "execution_count": 5,
   "id": "ae80479f",
   "metadata": {},
   "outputs": [
    {
     "name": "stdout",
     "output_type": "stream",
     "text": [
      "word_vectors : KeyedVectors<vector_size=100, 73 keys>\n"
     ]
    }
   ],
   "source": [
    "#Créer d’abord le générateur de vecteur.\n",
    "word_vectors = model.wv\n",
    "print(\"word_vectors :\",word_vectors)"
   ]
  },
  {
   "cell_type": "code",
   "execution_count": 6,
   "id": "d7e08dd8",
   "metadata": {},
   "outputs": [
    {
     "name": "stdout",
     "output_type": "stream",
     "text": [
      "[-9.5773851e-03  8.9517180e-03  4.1622454e-03  9.2415577e-03\n",
      "  6.6542407e-03  2.9014878e-03  9.7990260e-03 -4.4042901e-03\n",
      " -6.8138991e-03  4.2035365e-03  3.7308747e-03 -5.6777308e-03\n",
      "  9.6930237e-03 -3.5574201e-03  9.5748203e-03  8.4823824e-04\n",
      " -6.3373866e-03 -1.9792777e-03 -7.3723621e-03 -3.0059204e-03\n",
      "  1.0614300e-03  9.5061678e-03  9.3694627e-03 -6.5939603e-03\n",
      "  3.4778586e-03  2.2877618e-03 -2.5007536e-03 -9.2230104e-03\n",
      "  1.0322750e-03 -8.1539648e-03  6.3295169e-03 -5.7993405e-03\n",
      "  5.5480129e-03  9.8105287e-03 -1.6001542e-04  4.5319689e-03\n",
      " -1.8080126e-03  7.3608793e-03  3.9309426e-03 -9.0229893e-03\n",
      " -2.3908676e-03  3.6185901e-03 -9.2745118e-05 -1.1872529e-03\n",
      " -1.0360378e-03 -1.6694783e-03  5.9646968e-04  4.1505853e-03\n",
      " -4.2533102e-03 -3.8282683e-03 -3.9063048e-05  2.6686373e-04\n",
      " -1.7726819e-04 -4.8007825e-03  4.3101097e-03 -2.1730107e-03\n",
      "  2.1122387e-03  6.7393447e-04  5.9641898e-03 -6.8362160e-03\n",
      " -6.8201139e-03 -4.4601262e-03  9.4470102e-03 -1.5867706e-03\n",
      " -9.4270818e-03 -5.2353810e-04 -4.4395751e-03  6.0279015e-03\n",
      " -9.5997155e-03  2.8616206e-03 -9.2673888e-03  1.2483941e-03\n",
      "  6.0064937e-03  7.4027036e-03 -7.6077725e-03 -6.0528754e-03\n",
      " -6.8406067e-03 -7.9100709e-03 -9.5126433e-03 -2.1388715e-03\n",
      " -8.5047865e-04 -7.2609782e-03  6.7807138e-03  1.1312468e-03\n",
      "  5.8414266e-03  1.4790933e-03  8.1760908e-04 -7.3634908e-03\n",
      " -2.1759965e-03  4.3138787e-03 -5.0707608e-03  1.1310837e-03\n",
      "  2.8798594e-03 -1.5266350e-03  9.9507337e-03  8.3555309e-03\n",
      "  2.4321042e-03  7.1111778e-03  5.8848164e-03 -5.5698394e-03]\n"
     ]
    }
   ],
   "source": [
    "print(word_vectors ['humans'])"
   ]
  },
  {
   "cell_type": "code",
   "execution_count": 7,
   "id": "f528e1e7",
   "metadata": {},
   "outputs": [
    {
     "name": "stdout",
     "output_type": "stream",
     "text": [
      " taille du tableau vectors =5\n",
      "(5, 100)\n"
     ]
    }
   ],
   "source": [
    "import numpy as np\n",
    "word_vectors = model.wv\n",
    "selected_words =[ 'humans', 'learning' , 'artificial' ,'intelligence' , 'performance']\n",
    "vectors = [ word_vectors [ word ] for word in selected_words ]\n",
    "print (\" taille du tableau vectors =\"+ str ( len ( vectors )))\n",
    "print (np.shape(vectors))\n",
    "#print(\"vectors :\",vectors )"
   ]
  },
  {
   "cell_type": "markdown",
   "id": "c4ab39ae",
   "metadata": {},
   "source": [
    "# Exercice 4 : \n",
    "L'objet word_vectors contient les vecteurs numériques pour chaque mot du modèle Word2Vec. La dimension de chaque vecteur correspond à la taille spécifiée dans le paramètre vector_size lors de la création du modèle Word2Vec​"
   ]
  },
  {
   "cell_type": "code",
   "execution_count": 8,
   "id": "32caa1cc",
   "metadata": {},
   "outputs": [
    {
     "name": "stdout",
     "output_type": "stream",
     "text": [
      "vectors_4d : [[-0.01975415  0.03399625 -0.01859937 -0.02518473]\n",
      " [-0.03044881 -0.03378122 -0.02178805  0.01543149]\n",
      " [ 0.00153077  0.02967133  0.01943575  0.03173678]\n",
      " [-0.00201694 -0.02110691  0.04027256 -0.01969626]\n",
      " [ 0.05068913 -0.00877944 -0.01932089 -0.00228728]]\n"
     ]
    }
   ],
   "source": [
    "from sklearn.decomposition import PCA\n",
    "#Exécution de l’ACP.\n",
    "pca = PCA( n_components =4)\n",
    "vectors_4d = pca.fit_transform (vectors )\n",
    "print(\"vectors_4d :\",vectors_4d)"
   ]
  },
  {
   "cell_type": "markdown",
   "id": "b01fd3c5",
   "metadata": {},
   "source": [
    "# Exercice 5 : \n",
    "L'objet vectors_4d est le résultat de l'application de l'analyse en composantes principales (PCA) \n",
    "aux vecteurs de mots. Il contient les vecteurs de mots réduits à 4 dimensions."
   ]
  },
  {
   "cell_type": "code",
   "execution_count": 9,
   "id": "99f0259a",
   "metadata": {},
   "outputs": [
    {
     "data": {
      "image/png": "[encoded data removed]",
      "text/plain": [
       "<Figure size 1000x600 with 1 Axes>"
      ]
     },
     "metadata": {},
     "output_type": "display_data"
    }
   ],
   "source": [
    "import matplotlib.pyplot as plt\n",
    "\n",
    "plt.figure(figsize=(10, 6))\n",
    "plt.scatter(vectors_4d[:, 0], vectors_4d[:, 1])\n",
    "\n",
    "for i, word in enumerate(selected_words):\n",
    "    plt.annotate(word, (vectors_4d[i, 0], vectors_4d[i, 1]))\n",
    "\n",
    "plt.title('Réduction de dimension avec PCA pour les plongements lexicaux')\n",
    "plt.show()\n",
    "\n"
   ]
  },
  {
   "cell_type": "code",
   "execution_count": 10,
   "id": "3c4b01ec",
   "metadata": {},
   "outputs": [
    {
     "name": "stdout",
     "output_type": "stream",
     "text": [
      "[0.00097329 0.00092497 0.0007984  0.0005682 ]\n",
      "[0.29811094 0.28331153 0.24454233 0.1740352 ]\n",
      "1.0\n"
     ]
    }
   ],
   "source": [
    "#valeurs propres\n",
    "print(pca.explained_variance_)\n",
    "print(pca.explained_variance_ratio_)\n",
    "print(np.sum(pca.explained_variance_ratio_))\n",
    "#donc les 4 premiers axes expliquent pratiquement 100% de l information"
   ]
  },
  {
   "cell_type": "markdown",
   "id": "0d40b5bd",
   "metadata": {},
   "source": [
    "# Exercice 6 :\n",
    "Il s'agit de représenter graphiquement les mots sur le plan (3,4) de l'ACP. Cela implique d'utiliser les troisième et quatrième composantes principales au lieu des deux premières pour visualiser les mots."
   ]
  },
  {
   "cell_type": "markdown",
   "id": "25398d9f",
   "metadata": {},
   "source": [
    "# Exercice 7 :\n",
    "pca.explained_variance_ indique la quantité de variance de l'ensemble des données que chaque composante principale\n",
    "représente.\n",
    "pca.explained_variance_ratio_ indique la proportion de la variance totale que chaque composante principale représente.\n",
    "L'éboulis des valeurs propres est une visualisation de ces valeurs."
   ]
  },
  {
   "cell_type": "code",
   "execution_count": 11,
   "id": "d19366ad",
   "metadata": {},
   "outputs": [
    {
     "data": {
      "image/png": "[encoded data removed]",
      "text/plain": [
       "<Figure size 640x480 with 1 Axes>"
      ]
     },
     "metadata": {},
     "output_type": "display_data"
    }
   ],
   "source": [
    "import numpy as np\n",
    "import matplotlib.pyplot as plt\n",
    "\n",
    "eigval = pca.explained_variance_ \n",
    "p = len(eigval)\n",
    "\n",
    "plt.plot(np.arange(1, p + 1), eigval)\n",
    "plt.title(\"Éboulis des valeurs propres\")\n",
    "plt.ylabel(\"Valeur propre\")\n",
    "plt.xlabel(\"Numéro de la composante principale\")\n",
    "plt.show()\n"
   ]
  },
  {
   "cell_type": "code",
   "execution_count": 12,
   "id": "7e5559f8",
   "metadata": {},
   "outputs": [
    {
     "name": "stdout",
     "output_type": "stream",
     "text": [
      "(4, 100)\n",
      " Coordonnees des 4 premieres variables( en colonnes ) sur les 4 premiers axes ( en lignes ): [[-0.09985251  0.01796715 -0.05110081  0.12743978]\n",
      " [-0.11317445  0.04251309  0.00064532  0.17787019]\n",
      " [ 0.10221367  0.0394959  -0.2016994  -0.16409734]\n",
      " [ 0.20320734 -0.18011255  0.06490368 -0.14368697]]\n"
     ]
    }
   ],
   "source": [
    "#Affichage.\n",
    "print ( np.shape (pca.components_ ))\n",
    "print (\" Coordonnees des 4 premieres variables( en colonnes ) sur les 4 premiers axes ( en lignes ):\" ,pca.components_ [: ,0:4])"
   ]
  },
  {
   "cell_type": "markdown",
   "id": "406cc99e",
   "metadata": {},
   "source": [
    "# Exercice 8 \n",
    "Dans le contexte de l'ACP, une variable correspond à une caractéristique ou une dimension originale des données sur laquelle l'ACP est appliquée. \n",
    "Les résultats montrent les coefficients de corrélation entre les quatre premières variables originales et les quatre premières composantes principales. Ces coefficients aident à interpréter les composantes principales en indiquant comment chaque variable originale contribue à chaque composante principale.\n"
   ]
  },
  {
   "cell_type": "markdown",
   "id": "6d91a1b3",
   "metadata": {},
   "source": [
    "# Exercice 9\n",
    "\n",
    "covfac est la matrice des coefficients et sqrt_eigval est la racine carrée des valeurs propres. Le code multiplie ces éléments ensemble pour obtenir la corrélation entre les variables et les composantes."
   ]
  },
  {
   "cell_type": "code",
   "execution_count": 13,
   "id": "93e27f49",
   "metadata": {},
   "outputs": [
    {
     "name": "stdout",
     "output_type": "stream",
     "text": [
      " Correlations entre les 4 premieres variables ( en colonnes ) et les 4 premieres CP ( en lignes ): [[-3.11515632e-03 -3.44201244e-03  2.88813771e-03  4.84384077e-03]\n",
      " [ 5.60531525e-04  1.29296496e-03  1.11599167e-03 -4.29333180e-03]\n",
      " [-1.59422134e-03  1.96262946e-05 -5.69919528e-03  1.54710489e-03]\n",
      " [ 3.97581241e-03  5.40962560e-03 -4.63671591e-03 -3.42505734e-03]]\n"
     ]
    }
   ],
   "source": [
    "#Obtention des corrélations variables-facteurs.\n",
    "covfac = pca.components_ [: ,0:4]\n",
    "sqrt_eigval = np.sqrt ( eigval )\n",
    "corfac = np.zeros (( p , p ))\n",
    "for k in range ( p ):\n",
    "    corfac [: , k ]= covfac [k ,:] * sqrt_eigval [ k ]\n",
    "print (\" Correlations entre les 4 premieres variables ( en colonnes ) et les 4 premieres CP ( en lignes ):\" , corfac )"
   ]
  },
  {
   "cell_type": "markdown",
   "id": "ae9a6fd7",
   "metadata": {},
   "source": [
    "# Création du modèle de génération de langage avec tensorflow et keras :"
   ]
  },
  {
   "cell_type": "code",
   "execution_count": 15,
   "id": "31eb5aa7",
   "metadata": {},
   "outputs": [],
   "source": [
    "#importation des bibliothèques nécessaires\n",
    "import matplotlib.pyplot as plt\n",
    "import numpy as np\n",
    "import tensorflow as tf\n",
    "from tensorflow.keras.models import Sequential\n",
    "from tensorflow.keras.layers import Embedding, LSTM, Dense\n",
    "from tensorflow.keras.preprocessing.text import Tokenizer\n",
    "from tensorflow.keras.preprocessing.sequence import pad_sequences"
   ]
  },
  {
   "cell_type": "code",
   "execution_count": 16,
   "id": "07239d91",
   "metadata": {},
   "outputs": [
    {
     "name": "stdout",
     "output_type": "stream",
     "text": [
      "75\n",
      "{'to': 1, 'that': 2, 'has': 3, 'in': 4, 'learning': 5, 'and': 6, 'even': 7, 'humans': 8, 'like': 9, 'the': 10, 'of': 11, 'deep': 12, 'made': 13, 'significant': 14, 'progress': 15, 'recent': 16, 'years': 17, 'outperformed': 18, 'on': 19, 'many': 20, 'tasks': 21, 'image': 22, 'classification': 23, 'similarly': 24, 'success': 25, 'reinforcement': 26, 'show': 27, 'super': 28, 'human': 29, 'performance': 30, 'some': 31, 'games': 32, 'require': 33, 'sequential': 34, 'planning': 35, 'been': 36, 'quite': 37, 'extraordinary': 38, 'therefore': 39, 'it': 40, 'is': 41, 'tempting': 42, 'posit': 43, 'artificial': 44, 'intelligence': 45, 'might': 46, 'eventually': 47, 'come': 48, 'close': 49, 'or': 50, 'exceed': 51, 'abilities': 52, 'a': 53, 'more': 54, 'generic': 55, 'way': 56, 'however': 57, 'there': 58, 'are': 59, 'several': 60, 'fundamental': 61, 'technical': 62, 'hurdles': 63, 'need': 64, 'be': 65, 'crossed': 66, 'before': 67, 'we': 68, 'can': 69, 'build': 70, 'machines': 71, 'learn': 72, 'think': 73, 'people': 74}\n",
      "()\n"
     ]
    }
   ],
   "source": [
    "# Tokenisation du corpus\n",
    "#tockenisation est la transformation de notre texte (corpus) à un ensemble des mots pour l'entrainement\n",
    "#Crée une instance de la classe Tokenizer\n",
    "#Le Tokenizer de Keras est utilisé pour convertir chaque mot unique dans le corpus en un numéro (token).\n",
    "tokenizer = Tokenizer()\n",
    "tokenizer.fit_on_texts(corpus)\n",
    "total_words = len(tokenizer.word_index) +1\n",
    "\n",
    "#Affichage de nombre totlae des mots +1 (74+1)=75\n",
    "print(total_words)\n",
    "#Affichage de la fréquence de répitition de chque mot\n",
    "print(tokenizer.word_index)\n",
    "# Il affiche la nature de notre tokenizer.word_index qui est un dictionnair\n",
    "print(np.shape(tokenizer.word_index)) # () "
   ]
  },
  {
   "cell_type": "markdown",
   "id": "aae6f76e",
   "metadata": {},
   "source": [
    "D'après l'affichage de notre tokenizer.word_index, on remarque notre modèle généré attribue un identifiant à chaque tocken du corpus tel que les mots les plus fréquents reçoivent les indices les plus bas."
   ]
  },
  {
   "cell_type": "markdown",
   "id": "3766cdd8",
   "metadata": {},
   "source": [
    "# Exercice 10\n",
    "tokenizer.word_index est un dictionnaire où chaque mot unique du corpus est mappé à un index unique. total_words est le nombre total de mots uniques dans le corpus plus un. La différence avec l'objet tokenized_corpus est que tokenizer.word_index fournit un mappage unique pour chaque mot, tandis que tokenized_corpus est simplement une version tokenisée du corpus original​\n"
   ]
  },
  {
   "cell_type": "code",
   "execution_count": 17,
   "id": "179169ff",
   "metadata": {},
   "outputs": [
    {
     "name": "stdout",
     "output_type": "stream",
     "text": [
      "line : However, there are several fundamental technical hurdles that need to be crossed before we can build machines that learn and think like people.\n",
      "tokenizer.texts_to_sequences([line]): [[57, 58, 59, 60, 61, 62, 63, 2, 64, 1, 65, 66, 67, 68, 69, 70, 71, 2, 72, 6, 73, 9, 74]]\n",
      "token_list: [57, 58, 59, 60, 61, 62, 63, 2, 64, 1, 65, 66, 67, 68, 69, 70, 71, 2, 72, 6, 73, 9, 74]\n",
      "n_gram_sequence : [57, 58, 59, 60, 61, 62, 63, 2, 64, 1, 65, 66, 67, 68, 69, 70, 71, 2, 72, 6, 73, 9, 74]\n",
      "input_sequences : [[12, 5], [12, 5, 3], [12, 5, 3, 13], [12, 5, 3, 13, 14], [12, 5, 3, 13, 14, 15], [12, 5, 3, 13, 14, 15, 4], [12, 5, 3, 13, 14, 15, 4, 16], [12, 5, 3, 13, 14, 15, 4, 16, 17], [12, 5, 3, 13, 14, 15, 4, 16, 17, 6], [12, 5, 3, 13, 14, 15, 4, 16, 17, 6, 3], [12, 5, 3, 13, 14, 15, 4, 16, 17, 6, 3, 7], [12, 5, 3, 13, 14, 15, 4, 16, 17, 6, 3, 7, 18], [12, 5, 3, 13, 14, 15, 4, 16, 17, 6, 3, 7, 18, 8], [12, 5, 3, 13, 14, 15, 4, 16, 17, 6, 3, 7, 18, 8, 19], [12, 5, 3, 13, 14, 15, 4, 16, 17, 6, 3, 7, 18, 8, 19, 20], [12, 5, 3, 13, 14, 15, 4, 16, 17, 6, 3, 7, 18, 8, 19, 20, 21], [12, 5, 3, 13, 14, 15, 4, 16, 17, 6, 3, 7, 18, 8, 19, 20, 21, 9], [12, 5, 3, 13, 14, 15, 4, 16, 17, 6, 3, 7, 18, 8, 19, 20, 21, 9, 22], [12, 5, 3, 13, 14, 15, 4, 16, 17, 6, 3, 7, 18, 8, 19, 20, 21, 9, 22, 23], [24, 10], [24, 10, 25], [24, 10, 25, 11], [24, 10, 25, 11, 26], [24, 10, 25, 11, 26, 5], [24, 10, 25, 11, 26, 5, 1], [24, 10, 25, 11, 26, 5, 1, 27], [24, 10, 25, 11, 26, 5, 1, 27, 28], [24, 10, 25, 11, 26, 5, 1, 27, 28, 29], [24, 10, 25, 11, 26, 5, 1, 27, 28, 29, 30], [24, 10, 25, 11, 26, 5, 1, 27, 28, 29, 30, 4], [24, 10, 25, 11, 26, 5, 1, 27, 28, 29, 30, 4, 31], [24, 10, 25, 11, 26, 5, 1, 27, 28, 29, 30, 4, 31, 32], [24, 10, 25, 11, 26, 5, 1, 27, 28, 29, 30, 4, 31, 32, 2], [24, 10, 25, 11, 26, 5, 1, 27, 28, 29, 30, 4, 31, 32, 2, 33], [24, 10, 25, 11, 26, 5, 1, 27, 28, 29, 30, 4, 31, 32, 2, 33, 34], [24, 10, 25, 11, 26, 5, 1, 27, 28, 29, 30, 4, 31, 32, 2, 33, 34, 35], [24, 10, 25, 11, 26, 5, 1, 27, 28, 29, 30, 4, 31, 32, 2, 33, 34, 35, 3], [24, 10, 25, 11, 26, 5, 1, 27, 28, 29, 30, 4, 31, 32, 2, 33, 34, 35, 3, 36], [24, 10, 25, 11, 26, 5, 1, 27, 28, 29, 30, 4, 31, 32, 2, 33, 34, 35, 3, 36, 37], [24, 10, 25, 11, 26, 5, 1, 27, 28, 29, 30, 4, 31, 32, 2, 33, 34, 35, 3, 36, 37, 38], [39, 40], [39, 40, 41], [39, 40, 41, 42], [39, 40, 41, 42, 1], [39, 40, 41, 42, 1, 43], [39, 40, 41, 42, 1, 43, 2], [39, 40, 41, 42, 1, 43, 2, 44], [39, 40, 41, 42, 1, 43, 2, 44, 45], [39, 40, 41, 42, 1, 43, 2, 44, 45, 46], [39, 40, 41, 42, 1, 43, 2, 44, 45, 46, 47], [39, 40, 41, 42, 1, 43, 2, 44, 45, 46, 47, 48], [39, 40, 41, 42, 1, 43, 2, 44, 45, 46, 47, 48, 49], [39, 40, 41, 42, 1, 43, 2, 44, 45, 46, 47, 48, 49, 1], [39, 40, 41, 42, 1, 43, 2, 44, 45, 46, 47, 48, 49, 1, 50], [39, 40, 41, 42, 1, 43, 2, 44, 45, 46, 47, 48, 49, 1, 50, 7], [39, 40, 41, 42, 1, 43, 2, 44, 45, 46, 47, 48, 49, 1, 50, 7, 51], [39, 40, 41, 42, 1, 43, 2, 44, 45, 46, 47, 48, 49, 1, 50, 7, 51, 10], [39, 40, 41, 42, 1, 43, 2, 44, 45, 46, 47, 48, 49, 1, 50, 7, 51, 10, 52], [39, 40, 41, 42, 1, 43, 2, 44, 45, 46, 47, 48, 49, 1, 50, 7, 51, 10, 52, 11], [39, 40, 41, 42, 1, 43, 2, 44, 45, 46, 47, 48, 49, 1, 50, 7, 51, 10, 52, 11, 8], [39, 40, 41, 42, 1, 43, 2, 44, 45, 46, 47, 48, 49, 1, 50, 7, 51, 10, 52, 11, 8, 4], [39, 40, 41, 42, 1, 43, 2, 44, 45, 46, 47, 48, 49, 1, 50, 7, 51, 10, 52, 11, 8, 4, 53], [39, 40, 41, 42, 1, 43, 2, 44, 45, 46, 47, 48, 49, 1, 50, 7, 51, 10, 52, 11, 8, 4, 53, 54], [39, 40, 41, 42, 1, 43, 2, 44, 45, 46, 47, 48, 49, 1, 50, 7, 51, 10, 52, 11, 8, 4, 53, 54, 55], [39, 40, 41, 42, 1, 43, 2, 44, 45, 46, 47, 48, 49, 1, 50, 7, 51, 10, 52, 11, 8, 4, 53, 54, 55, 56], [57, 58], [57, 58, 59], [57, 58, 59, 60], [57, 58, 59, 60, 61], [57, 58, 59, 60, 61, 62], [57, 58, 59, 60, 61, 62, 63], [57, 58, 59, 60, 61, 62, 63, 2], [57, 58, 59, 60, 61, 62, 63, 2, 64], [57, 58, 59, 60, 61, 62, 63, 2, 64, 1], [57, 58, 59, 60, 61, 62, 63, 2, 64, 1, 65], [57, 58, 59, 60, 61, 62, 63, 2, 64, 1, 65, 66], [57, 58, 59, 60, 61, 62, 63, 2, 64, 1, 65, 66, 67], [57, 58, 59, 60, 61, 62, 63, 2, 64, 1, 65, 66, 67, 68], [57, 58, 59, 60, 61, 62, 63, 2, 64, 1, 65, 66, 67, 68, 69], [57, 58, 59, 60, 61, 62, 63, 2, 64, 1, 65, 66, 67, 68, 69, 70], [57, 58, 59, 60, 61, 62, 63, 2, 64, 1, 65, 66, 67, 68, 69, 70, 71], [57, 58, 59, 60, 61, 62, 63, 2, 64, 1, 65, 66, 67, 68, 69, 70, 71, 2], [57, 58, 59, 60, 61, 62, 63, 2, 64, 1, 65, 66, 67, 68, 69, 70, 71, 2, 72], [57, 58, 59, 60, 61, 62, 63, 2, 64, 1, 65, 66, 67, 68, 69, 70, 71, 2, 72, 6], [57, 58, 59, 60, 61, 62, 63, 2, 64, 1, 65, 66, 67, 68, 69, 70, 71, 2, 72, 6, 73], [57, 58, 59, 60, 61, 62, 63, 2, 64, 1, 65, 66, 67, 68, 69, 70, 71, 2, 72, 6, 73, 9], [57, 58, 59, 60, 61, 62, 63, 2, 64, 1, 65, 66, 67, 68, 69, 70, 71, 2, 72, 6, 73, 9, 74]]\n"
     ]
    }
   ],
   "source": [
    "# Création de séquences d'entrée et de sortie\n",
    "input_sequences = []\n",
    "for line in corpus:\n",
    "    token_list = tokenizer.texts_to_sequences([line])[0]\n",
    "    for i in range(1, len(token_list)):\n",
    "        n_gram_sequence = token_list[:i+1]\n",
    "        input_sequences.append(n_gram_sequence)\n",
    "        \n",
    "#affiche dernière ligne du corpus        \n",
    "print(\"line :\" ,line)\n",
    "#Pour chaque phrase du corpus, le tokenizer convertit la phrase en une séquence de tokens\n",
    "#affiche les tokens de la dernière ligne du corpus\n",
    "print(\"tokenizer.texts_to_sequences([line]):\",tokenizer.texts_to_sequences([line]))\n",
    "print(\"token_list:\",token_list)\n",
    "\n",
    "#print(np.shape(input_sequences,dtype=object)) # (87,26)\n",
    "print(\"n_gram_sequence :\",n_gram_sequence)\n",
    "print(\"input_sequences :\",input_sequences)"
   ]
  },
  {
   "cell_type": "markdown",
   "id": "3ce838c1",
   "metadata": {},
   "source": [
    "# Exercice 11\n",
    "Tokenisation : Chaque ligne de texte du corpus est convertie en une séquence de tokens numériques à l'aide du tokenizer. Ce processus transforme les mots en entiers uniques qui les représentent, permettant ainsi au modèle d'interpréter les mots comme des entrées numériques.\n",
    "\n",
    "Création de séquences d'entrée : Pour chaque ligne de texte tokenisée, des séquences de n-grammes sont générées. Un n-gramme est une sous-séquence de n éléments consécutifs tirés d'une séquence donnée. Ici, des séquences de n-grammes sont créées en ajoutant progressivement un token à la séquence jusqu'à ce que toute la ligne soit représentée.\n",
    "\n",
    "Résultat de la dernière ligne : La dernière ligne du corpus, \"However, there are several fundamental technical hurdles that need to be crossed before we can build machines that learn and think like people.\", est transformée en une série de tokens, chacun représentant un mot unique de la ligne.\n",
    "\n",
    "Séquences de n-grammes : Le résultat montre que pour la dernière ligne, une séquence complète de tokens est générée. Cette séquence représente l'intégralité de la ligne en termes de tokens numériques.\n",
    "\n",
    "Input_sequences : La variable input_sequences contient toutes les séquences de n-grammes générées à partir du corpus. Cela inclut non seulement la séquence complète pour chaque ligne, mais aussi toutes les sous-séquences possibles."
   ]
  },
  {
   "cell_type": "code",
   "execution_count": 18,
   "id": "94a2feb9",
   "metadata": {},
   "outputs": [
    {
     "name": "stdout",
     "output_type": "stream",
     "text": [
      "26\n",
      "(87, 26)\n",
      "[[ 0  0  0 ...  0 12  5]\n",
      " [ 0  0  0 ... 12  5  3]\n",
      " [ 0  0  0 ...  5  3 13]\n",
      " ...\n",
      " [ 0  0  0 ... 72  6 73]\n",
      " [ 0  0  0 ...  6 73  9]\n",
      " [ 0  0  0 ... 73  9 74]]\n"
     ]
    }
   ],
   "source": [
    "# Remplissage des séquences avec des 0 pour les rendre de même longueur\n",
    "max_sequence_length = max([len(seq) for seq in input_sequences])\n",
    "input_sequences = pad_sequences(input_sequences, maxlen=max_sequence_length, padding='pre')\n",
    "\n",
    "print(max_sequence_length)\n",
    "print(np.shape(input_sequences)) # (87,26)\n",
    "print(input_sequences)"
   ]
  },
  {
   "cell_type": "markdown",
   "id": "f719e803",
   "metadata": {},
   "source": [
    "# Exercice 12\n",
    "input_sequences a une taille de (87, 26). Cela signifie qu'il y a 87 séquences et chaque séquence a été complétée pour avoir une longueur de 26 tokens."
   ]
  },
  {
   "cell_type": "code",
   "execution_count": 19,
   "id": "066f5335",
   "metadata": {},
   "outputs": [
    {
     "name": "stdout",
     "output_type": "stream",
     "text": [
      "(87, 25)\n",
      "[[ 0  0  0 ...  0  0 12]\n",
      " [ 0  0  0 ...  0 12  5]\n",
      " [ 0  0  0 ... 12  5  3]\n",
      " ...\n",
      " [ 0  0  0 ...  2 72  6]\n",
      " [ 0  0  0 ... 72  6 73]\n",
      " [ 0  0  0 ...  6 73  9]]\n",
      "(87,)\n",
      "[ 5  3 13 14 15  4 16 17  6  3  7 18  8 19 20 21  9 22 23 10 25 11 26  5\n",
      "  1 27 28 29 30  4 31 32  2 33 34 35  3 36 37 38 40 41 42  1 43  2 44 45\n",
      " 46 47 48 49  1 50  7 51 10 52 11  8  4 53 54 55 56 58 59 60 61 62 63  2\n",
      " 64  1 65 66 67 68 69 70 71  2 72  6 73  9 74]\n"
     ]
    }
   ],
   "source": [
    "# Séparation des séquences en entrées et sorties\n",
    "X, y = input_sequences[:, :-1], input_sequences[:, -1]\n",
    "print(np.shape(X)) # (87,25)\n",
    "print(X)\n",
    "print(np.shape(y)) # (87,)\n",
    "print(y) # dernier mot de chaque séquence"
   ]
  },
  {
   "cell_type": "markdown",
   "id": "5cf8daab",
   "metadata": {},
   "source": [
    "# Exercice 13 \n",
    "Taille de X et y :\n",
    "\n",
    "* X a une taille de (87, 25), ce qui signifie qu'il y a 87 séquences d'entrée et chaque séquence a une longueur de 25 tokens.\n",
    "* y a une taille de (87,), indiquant qu'il y a 87 labels cibles correspondants, un pour chaque séquence d'entrée dans X.\n",
    "\n",
    "Contenu de X et y :\n",
    "\n",
    "* X contient les séquences de tokens utilisées comme données d'entrée pour le modèle. Chaque séquence est un vecteur de tokens qui représente une phrase ou une partie d'une phrase avec un token manquant à la fin.\n",
    "* y contient les tokens qui sont les mots suivants dans le corpus pour chaque séquence correspondante dans X. Ces tokens sont les cibles que le modèle doit apprendre à prédire après avoir reçu la séquence d'entrée X.\n",
    "\n",
    "En termes de traitement de langage naturel (NLP), X serait la \"phrase contexte\" et y serait le \"mot suivant\" que le modèle tente de prédire. Cela permet au modèle de se former à prédire le prochain mot sur la base du contexte fourni par la séquence de mots précédents."
   ]
  },
  {
   "cell_type": "code",
   "execution_count": 20,
   "id": "1b0bd702",
   "metadata": {},
   "outputs": [
    {
     "name": "stdout",
     "output_type": "stream",
     "text": [
      "[[0. 0. 0. ... 0. 0. 0.]\n",
      " [0. 0. 0. ... 0. 0. 0.]\n",
      " [0. 0. 0. ... 0. 0. 0.]\n",
      " ...\n",
      " [0. 0. 0. ... 0. 1. 0.]\n",
      " [0. 0. 0. ... 0. 0. 0.]\n",
      " [0. 0. 0. ... 0. 0. 1.]]\n",
      "(87, 75)\n"
     ]
    }
   ],
   "source": [
    "# Conversion des sorties en format one-hot encoding\n",
    "y = tf.keras.utils.to_categorical(y, num_classes=total_words)\n",
    "print(y)\n",
    "print(np.shape(y)) # (87,75)"
   ]
  },
  {
   "cell_type": "markdown",
   "id": "b37d06f1",
   "metadata": {},
   "source": [
    "# Exercice 14\n",
    "Le contenu de y après la conversion en one-hot encoding est donc une matrice où chaque ligne correspond à un vecteur one-hot qui représente le mot suivant dans la séquence des données d'entrée. La taille de cette matrice est donnée par (87, 75), indiquant qu'il y a 87 vecteurs one-hot et chaque vecteur a une longueur de 75, ce qui correspond au nombre total de mots uniques dans le corpus (ou total_words).\n",
    "\n",
    "Chaque vecteur one-hot dans y est une représentation binaire du mot suivant dans la séquence, où la position du '1' dans le vecteur correspond à l'indice du mot dans le vocabulaire du tokenizer. Cela permet au modèle d'identifier précisément quel mot il doit prédire après avoir reçu une séquence d'entrée"
   ]
  },
  {
   "cell_type": "code",
   "execution_count": 21,
   "id": "023cce92",
   "metadata": {},
   "outputs": [],
   "source": [
    "# Définition du modèle LSTM\n",
    "model = Sequential()\n",
    "model.add(Embedding(total_words, 50, input_length=max_sequence_length-1))\n",
    "model.add(LSTM(100))\n",
    "model.add(Dense(total_words, activation='softmax'))"
   ]
  },
  {
   "cell_type": "markdown",
   "id": "bc2799d6",
   "metadata": {},
   "source": [
    "# Exercice 15\n",
    "\n",
    "LSTM signifie \"Long Short-Term Memory\". C'est un type spécial de réseau de neurones récurrents (RNN) capable de capturer des dépendances à long terme dans les séquences de données. Les LSTMs sont conçus pour éviter le problème de disparition du gradient qui est courant avec les RNN standards, ce qui les rend très efficaces pour apprendre à partir de séquences de données longues et de diverses longueurs.\n",
    "\n",
    "Un modèle LSTM peut avoir une ou plusieurs couches. Dans le code fourni, le modèle LSTM a une seule couche LSTM, indiquée par LSTM(100), où 100 est le nombre d'unités de mémoire, dans la couche LSTM. Cette couche LSTM est suivie d'une couche dense qui sert à la classification ou à la prédiction du prochain mot dans la séquence.\n",
    "\n",
    "En entrée, le modèle LSTM prend des séquences de tokens qui ont été préalablement intégrées dans un espace vectoriel continu par la couche d'embedding.\n",
    "\n",
    "En sortie, il produit une distribution de probabilité sur le vocabulaire des mots possibles, indiquant le mot suivant le plus probable dans la séquence."
   ]
  },
  {
   "cell_type": "code",
   "execution_count": 22,
   "id": "6a70beb7",
   "metadata": {},
   "outputs": [],
   "source": [
    "# Compilation du modèle\n",
    "model.compile(optimizer='adam', loss='categorical_crossentropy', metrics=['accuracy'])"
   ]
  },
  {
   "cell_type": "markdown",
   "id": "4537caf0",
   "metadata": {},
   "source": [
    "# Exercice 16 : Ajoute d’autres mesures de performance pour ce modèle.\n"
   ]
  },
  {
   "cell_type": "code",
   "execution_count": null,
   "id": "32305737",
   "metadata": {},
   "outputs": [],
   "source": [
    "from tensorflow.keras.metrics import Precision, Recall\n",
    "\n",
    "model.compile(optimizer='adam', loss='categorical_crossentropy',metrics=['accuracy', Precision(), Recall()])\n"
   ]
  },
  {
   "cell_type": "code",
   "execution_count": 23,
   "id": "a090b2d5",
   "metadata": {},
   "outputs": [
    {
     "name": "stdout",
     "output_type": "stream",
     "text": [
      "Epoch 1/100\n",
      "3/3 [==============================] - 2s 15ms/step - loss: 4.3190 - accuracy: 0.0230\n",
      "Epoch 2/100\n",
      "3/3 [==============================] - 0s 9ms/step - loss: 4.3109 - accuracy: 0.0575\n",
      "Epoch 3/100\n",
      "3/3 [==============================] - 0s 8ms/step - loss: 4.3039 - accuracy: 0.0575\n",
      "Epoch 4/100\n",
      "3/3 [==============================] - 0s 8ms/step - loss: 4.2947 - accuracy: 0.0575\n",
      "Epoch 5/100\n",
      "3/3 [==============================] - 0s 8ms/step - loss: 4.2816 - accuracy: 0.0575\n",
      "Epoch 6/100\n",
      "3/3 [==============================] - 0s 15ms/step - loss: 4.2643 - accuracy: 0.0575\n",
      "Epoch 7/100\n",
      "3/3 [==============================] - 0s 15ms/step - loss: 4.2101 - accuracy: 0.0460\n",
      "Epoch 8/100\n",
      "3/3 [==============================] - 0s 15ms/step - loss: 4.1697 - accuracy: 0.0460\n",
      "Epoch 9/100\n",
      "3/3 [==============================] - 0s 10ms/step - loss: 4.1662 - accuracy: 0.0345\n",
      "Epoch 10/100\n",
      "3/3 [==============================] - 0s 9ms/step - loss: 4.1227 - accuracy: 0.0460\n",
      "Epoch 11/100\n",
      "3/3 [==============================] - 0s 13ms/step - loss: 4.0917 - accuracy: 0.0575\n",
      "Epoch 12/100\n",
      "3/3 [==============================] - 0s 11ms/step - loss: 4.0550 - accuracy: 0.0690\n",
      "Epoch 13/100\n",
      "3/3 [==============================] - 0s 12ms/step - loss: 4.0083 - accuracy: 0.0805\n",
      "Epoch 14/100\n",
      "3/3 [==============================] - 0s 11ms/step - loss: 3.9505 - accuracy: 0.0805\n",
      "Epoch 15/100\n",
      "3/3 [==============================] - 0s 12ms/step - loss: 3.8893 - accuracy: 0.0920\n",
      "Epoch 16/100\n",
      "3/3 [==============================] - 0s 9ms/step - loss: 3.8260 - accuracy: 0.1149\n",
      "Epoch 17/100\n",
      "3/3 [==============================] - 0s 9ms/step - loss: 3.7858 - accuracy: 0.1149\n",
      "Epoch 18/100\n",
      "3/3 [==============================] - 0s 12ms/step - loss: 3.7404 - accuracy: 0.0920\n",
      "Epoch 19/100\n",
      "3/3 [==============================] - 0s 9ms/step - loss: 3.7274 - accuracy: 0.0690\n",
      "Epoch 20/100\n",
      "3/3 [==============================] - 0s 8ms/step - loss: 3.6111 - accuracy: 0.0690\n",
      "Epoch 21/100\n",
      "3/3 [==============================] - 0s 7ms/step - loss: 3.6084 - accuracy: 0.0920\n",
      "Epoch 22/100\n",
      "3/3 [==============================] - 0s 11ms/step - loss: 3.5461 - accuracy: 0.1034\n",
      "Epoch 23/100\n",
      "3/3 [==============================] - 0s 14ms/step - loss: 3.4906 - accuracy: 0.0920\n",
      "Epoch 24/100\n",
      "3/3 [==============================] - 0s 15ms/step - loss: 3.4346 - accuracy: 0.1034\n",
      "Epoch 25/100\n",
      "3/3 [==============================] - 0s 10ms/step - loss: 3.3867 - accuracy: 0.1034\n",
      "Epoch 26/100\n",
      "3/3 [==============================] - 0s 9ms/step - loss: 3.3489 - accuracy: 0.0920\n",
      "Epoch 27/100\n",
      "3/3 [==============================] - 0s 8ms/step - loss: 3.3091 - accuracy: 0.1034\n",
      "Epoch 28/100\n",
      "3/3 [==============================] - 0s 8ms/step - loss: 3.2514 - accuracy: 0.1149\n",
      "Epoch 29/100\n",
      "3/3 [==============================] - 0s 7ms/step - loss: 3.1974 - accuracy: 0.1494\n",
      "Epoch 30/100\n",
      "3/3 [==============================] - 0s 15ms/step - loss: 3.1445 - accuracy: 0.1264\n",
      "Epoch 31/100\n",
      "3/3 [==============================] - 0s 11ms/step - loss: 3.0930 - accuracy: 0.1494\n",
      "Epoch 32/100\n",
      "3/3 [==============================] - 0s 10ms/step - loss: 3.0495 - accuracy: 0.1954\n",
      "Epoch 33/100\n",
      "3/3 [==============================] - 0s 8ms/step - loss: 2.9914 - accuracy: 0.1954\n",
      "Epoch 34/100\n",
      "3/3 [==============================] - 0s 8ms/step - loss: 2.9348 - accuracy: 0.2184\n",
      "Epoch 35/100\n",
      "3/3 [==============================] - 0s 8ms/step - loss: 2.8846 - accuracy: 0.2414\n",
      "Epoch 36/100\n",
      "3/3 [==============================] - 0s 14ms/step - loss: 2.8276 - accuracy: 0.2184\n",
      "Epoch 37/100\n",
      "3/3 [==============================] - 0s 14ms/step - loss: 2.7752 - accuracy: 0.2414\n",
      "Epoch 38/100\n",
      "3/3 [==============================] - 0s 14ms/step - loss: 2.7237 - accuracy: 0.3333\n",
      "Epoch 39/100\n",
      "3/3 [==============================] - 0s 11ms/step - loss: 2.7027 - accuracy: 0.2989\n",
      "Epoch 40/100\n",
      "3/3 [==============================] - 0s 9ms/step - loss: 2.6647 - accuracy: 0.2874\n",
      "Epoch 41/100\n",
      "3/3 [==============================] - 0s 9ms/step - loss: 2.6924 - accuracy: 0.2644\n",
      "Epoch 42/100\n",
      "3/3 [==============================] - 0s 6ms/step - loss: 2.5897 - accuracy: 0.2529\n",
      "Epoch 43/100\n",
      "3/3 [==============================] - 0s 11ms/step - loss: 2.5585 - accuracy: 0.2644\n",
      "Epoch 44/100\n",
      "3/3 [==============================] - 0s 11ms/step - loss: 2.4579 - accuracy: 0.3678\n",
      "Epoch 45/100\n",
      "3/3 [==============================] - 0s 10ms/step - loss: 2.4120 - accuracy: 0.4138\n",
      "Epoch 46/100\n",
      "3/3 [==============================] - 0s 9ms/step - loss: 2.3750 - accuracy: 0.4483\n",
      "Epoch 47/100\n",
      "3/3 [==============================] - 0s 8ms/step - loss: 2.3272 - accuracy: 0.4598\n",
      "Epoch 48/100\n",
      "3/3 [==============================] - 0s 13ms/step - loss: 2.2713 - accuracy: 0.4368\n",
      "Epoch 49/100\n",
      "3/3 [==============================] - 0s 11ms/step - loss: 2.2428 - accuracy: 0.4828\n",
      "Epoch 50/100\n",
      "3/3 [==============================] - 0s 10ms/step - loss: 2.1963 - accuracy: 0.4713\n",
      "Epoch 51/100\n",
      "3/3 [==============================] - 0s 8ms/step - loss: 2.1528 - accuracy: 0.4943\n",
      "Epoch 52/100\n",
      "3/3 [==============================] - 0s 8ms/step - loss: 2.1206 - accuracy: 0.5402\n",
      "Epoch 53/100\n",
      "3/3 [==============================] - 0s 11ms/step - loss: 2.0843 - accuracy: 0.5172\n",
      "Epoch 54/100\n",
      "3/3 [==============================] - 0s 16ms/step - loss: 2.0616 - accuracy: 0.5862\n",
      "Epoch 55/100\n",
      "3/3 [==============================] - 0s 6ms/step - loss: 2.0067 - accuracy: 0.5402\n",
      "Epoch 56/100\n",
      "3/3 [==============================] - 0s 17ms/step - loss: 1.9629 - accuracy: 0.6092\n",
      "Epoch 57/100\n",
      "3/3 [==============================] - 0s 11ms/step - loss: 1.9550 - accuracy: 0.6207\n",
      "Epoch 58/100\n",
      "3/3 [==============================] - 0s 10ms/step - loss: 1.9103 - accuracy: 0.6207\n",
      "Epoch 59/100\n",
      "3/3 [==============================] - 0s 9ms/step - loss: 1.8899 - accuracy: 0.6092\n",
      "Epoch 60/100\n",
      "3/3 [==============================] - 0s 8ms/step - loss: 1.8379 - accuracy: 0.6437\n",
      "Epoch 61/100\n",
      "3/3 [==============================] - 0s 8ms/step - loss: 1.8160 - accuracy: 0.6207\n",
      "Epoch 62/100\n",
      "3/3 [==============================] - 0s 8ms/step - loss: 1.7858 - accuracy: 0.6667\n",
      "Epoch 63/100\n",
      "3/3 [==============================] - 0s 8ms/step - loss: 1.7656 - accuracy: 0.6552\n",
      "Epoch 64/100\n",
      "3/3 [==============================] - 0s 7ms/step - loss: 1.7390 - accuracy: 0.6667\n",
      "Epoch 65/100\n",
      "3/3 [==============================] - 0s 13ms/step - loss: 1.6954 - accuracy: 0.7126\n",
      "Epoch 66/100\n",
      "3/3 [==============================] - 0s 14ms/step - loss: 1.6813 - accuracy: 0.7241\n",
      "Epoch 67/100\n",
      "3/3 [==============================] - 0s 11ms/step - loss: 1.6529 - accuracy: 0.6667\n",
      "Epoch 68/100\n",
      "3/3 [==============================] - 0s 10ms/step - loss: 1.6102 - accuracy: 0.7241\n",
      "Epoch 69/100\n",
      "3/3 [==============================] - 0s 9ms/step - loss: 1.5966 - accuracy: 0.7586\n",
      "Epoch 70/100\n",
      "3/3 [==============================] - 0s 8ms/step - loss: 1.5764 - accuracy: 0.7471\n",
      "Epoch 71/100\n",
      "3/3 [==============================] - 0s 8ms/step - loss: 1.5483 - accuracy: 0.7701\n",
      "Epoch 72/100\n",
      "3/3 [==============================] - 0s 8ms/step - loss: 1.5118 - accuracy: 0.7816\n",
      "Epoch 73/100\n",
      "3/3 [==============================] - 0s 16ms/step - loss: 1.4890 - accuracy: 0.7586\n",
      "Epoch 74/100\n",
      "3/3 [==============================] - 0s 18ms/step - loss: 1.4750 - accuracy: 0.7931\n",
      "Epoch 75/100\n",
      "3/3 [==============================] - 0s 10ms/step - loss: 1.4467 - accuracy: 0.7931\n",
      "Epoch 76/100\n",
      "3/3 [==============================] - 0s 9ms/step - loss: 1.4570 - accuracy: 0.7241\n",
      "Epoch 77/100\n",
      "3/3 [==============================] - 0s 9ms/step - loss: 1.4396 - accuracy: 0.7586\n",
      "Epoch 78/100\n",
      "3/3 [==============================] - 0s 8ms/step - loss: 1.3983 - accuracy: 0.8161\n",
      "Epoch 79/100\n",
      "3/3 [==============================] - 0s 16ms/step - loss: 1.3876 - accuracy: 0.7586\n",
      "Epoch 80/100\n",
      "3/3 [==============================] - 0s 17ms/step - loss: 1.3712 - accuracy: 0.8046\n",
      "Epoch 81/100\n",
      "3/3 [==============================] - 0s 18ms/step - loss: 1.3597 - accuracy: 0.8161\n",
      "Epoch 82/100\n",
      "3/3 [==============================] - 0s 9ms/step - loss: 1.3306 - accuracy: 0.8046\n",
      "Epoch 83/100\n",
      "3/3 [==============================] - 0s 8ms/step - loss: 1.3112 - accuracy: 0.8391\n",
      "Epoch 84/100\n"
     ]
    },
    {
     "name": "stdout",
     "output_type": "stream",
     "text": [
      "3/3 [==============================] - 0s 8ms/step - loss: 1.2858 - accuracy: 0.8046\n",
      "Epoch 85/100\n",
      "3/3 [==============================] - 0s 7ms/step - loss: 1.2658 - accuracy: 0.8391\n",
      "Epoch 86/100\n",
      "3/3 [==============================] - 0s 16ms/step - loss: 1.2510 - accuracy: 0.8621\n",
      "Epoch 87/100\n",
      "3/3 [==============================] - 0s 17ms/step - loss: 1.2266 - accuracy: 0.8506\n",
      "Epoch 88/100\n",
      "3/3 [==============================] - 0s 18ms/step - loss: 1.2093 - accuracy: 0.8506\n",
      "Epoch 89/100\n",
      "3/3 [==============================] - 0s 10ms/step - loss: 1.1951 - accuracy: 0.8391\n",
      "Epoch 90/100\n",
      "3/3 [==============================] - 0s 8ms/step - loss: 1.1923 - accuracy: 0.8736\n",
      "Epoch 91/100\n",
      "3/3 [==============================] - 0s 8ms/step - loss: 1.1699 - accuracy: 0.8966\n",
      "Epoch 92/100\n",
      "3/3 [==============================] - 0s 8ms/step - loss: 1.1535 - accuracy: 0.8966\n",
      "Epoch 93/100\n",
      "3/3 [==============================] - 0s 8ms/step - loss: 1.1441 - accuracy: 0.8851\n",
      "Epoch 94/100\n",
      "3/3 [==============================] - 0s 8ms/step - loss: 1.1198 - accuracy: 0.8966\n",
      "Epoch 95/100\n",
      "3/3 [==============================] - 0s 9ms/step - loss: 1.1138 - accuracy: 0.8621\n",
      "Epoch 96/100\n",
      "3/3 [==============================] - 0s 5ms/step - loss: 1.1045 - accuracy: 0.8621\n",
      "Epoch 97/100\n",
      "3/3 [==============================] - 0s 11ms/step - loss: 1.0790 - accuracy: 0.8621\n",
      "Epoch 98/100\n",
      "3/3 [==============================] - 0s 11ms/step - loss: 1.0702 - accuracy: 0.8851\n",
      "Epoch 99/100\n",
      "3/3 [==============================] - 0s 10ms/step - loss: 1.0735 - accuracy: 0.9080\n",
      "Epoch 100/100\n",
      "3/3 [==============================] - 0s 9ms/step - loss: 1.0516 - accuracy: 0.8966\n"
     ]
    },
    {
     "data": {
      "text/plain": [
       "<keras.src.callbacks.History at 0x1861e8fc700>"
      ]
     },
     "execution_count": 23,
     "metadata": {},
     "output_type": "execute_result"
    }
   ],
   "source": [
    "# Entraînement du modèle\n",
    "model.fit(X, y, epochs =100 , verbose =1)"
   ]
  },
  {
   "cell_type": "markdown",
   "id": "b12a0840",
   "metadata": {},
   "source": [
    "# Exercice 17\n",
    "\n",
    "X est la séquence de tokens et y est la séquence cible en format one-hot encoding que le modèle prédira.\n",
    "\n",
    "epochs=100 : le modèle va s'entraîner en passant 100 fois sur l'ensemble du jeu de données.\n",
    "\n",
    "verbose=1 : le modèle affichera une barre de progression ainsi que les pertes et les métriques pour chaque époque pendant l'entraînement.\n"
   ]
  },
  {
   "cell_type": "code",
   "execution_count": 24,
   "id": "e5b7938d",
   "metadata": {},
   "outputs": [],
   "source": [
    "# Fonction pour générer du texte\n",
    "def generate_text(seed_text, next_words, model, max_sequence_length):\n",
    "    for _ in range(next_words):\n",
    "        token_list = tokenizer.texts_to_sequences([seed_text])[0]\n",
    "        token_list = pad_sequences([token_list], maxlen=max_sequence_length-1, padding='pre')\n",
    "        predicted_probs = model.predict(token_list, verbose=0)[0]\n",
    "\n",
    "        # Choisissez l'index du mot avec la probabilité maximale\n",
    "        predicted_index = np.argmax(predicted_probs)\n",
    "\n",
    "        output_word = \"\"\n",
    "        for word, index in tokenizer.word_index.items():\n",
    "            if index == predicted_index:\n",
    "                output_word = word\n",
    "                break\n",
    "        seed_text += \" \" + output_word\n",
    "\n",
    "    return seed_text"
   ]
  },
  {
   "cell_type": "code",
   "execution_count": 25,
   "id": "e23b9bc0",
   "metadata": {},
   "outputs": [
    {
     "name": "stdout",
     "output_type": "stream",
     "text": [
      "machine learning learning has made significant progress in recent years and has\n"
     ]
    }
   ],
   "source": [
    "# Génération de texte à partir d'une graine\n",
    "generated_text = generate_text(\"machine learning\", 10, model, max_sequence_length)\n",
    "print(generated_text)"
   ]
  },
  {
   "cell_type": "markdown",
   "id": "423366f5",
   "metadata": {},
   "source": [
    "# Exercice 18\n",
    "\n",
    "Les paramètres de la fonction generate_text sont les suivants :\n",
    "\n",
    "* seed_text : Le texte initial à partir duquel le modèle commence à générer du texte. Il s'agit de la séquence de départ que le modèle utilisera pour prédire le mot suivant.\n",
    "* next_words : Le nombre de mots supplémentaires que le modèle doit générer après le seed_text.\n",
    "* model : Le modèle de machine learning pré-entraîné qui est utilisé pour générer le texte.\n",
    "* max_sequence_length : La longueur maximale d'une séquence de texte que le modèle peut prendre en entrée, ce qui correspond généralement à la longueur des séquences sur lesquelles le modèle a été entraîné.\n",
    "\n",
    "Quant à savoir si le modèle peut prédire des mots hors du corpus, cela dépend du vocabulaire connu par le modèle, qui est limité aux mots qu'il a vus pendant l'entraînement. "
   ]
  },
  {
   "cell_type": "markdown",
   "id": "67bfef7b",
   "metadata": {},
   "source": [
    "# Exercice 19\n",
    "On excécuter la fonction avec d’autres entrées. \n"
   ]
  },
  {
   "cell_type": "code",
   "execution_count": 28,
   "id": "00fc36f9",
   "metadata": {},
   "outputs": [
    {
     "name": "stdout",
     "output_type": "stream",
     "text": [
      "deep learning now has made significant progress in recent years and has even outperformed humans on many tasks\n"
     ]
    }
   ],
   "source": [
    "new_seed_text = \"deep learning now\"\n",
    "new_next_words = 15  # Générer 15 mots supplémentaires\n",
    "generated_text = generate_text(new_seed_text, new_next_words, model, max_sequence_length)\n",
    "print(generated_text)\n"
   ]
  },
  {
   "cell_type": "markdown",
   "id": "7ba7cf5e",
   "metadata": {},
   "source": [
    "Pour les améliorations possibles du modèle :\n",
    "\n",
    "* Augmenter le dataset : Plus le modèle est exposé à un large éventail de phrases et de structures grammaticales, mieux il peut apprendre et généraliser. Ajouter plus de données d'entraînement peut améliorer sa performance.\n",
    "\n",
    "* Fine-tuning des hyperparamètres : Ajuster les hyperparamètres comme le nombre d'unités LSTM, la taille des embeddings, le nombre de couches dans le réseau, les taux d'apprentissage, etc., peut aider à trouver une meilleure configuration pour le modèle."
   ]
  }
 ],
 "metadata": {
  "kernelspec": {
   "display_name": "Python 3 (ipykernel)",
   "language": "python",
   "name": "python3"
  },
  "language_info": {
   "codemirror_mode": {
    "name": "ipython",
    "version": 3
   },
   "file_extension": ".py",
   "mimetype": "text/x-python",
   "name": "python",
   "nbconvert_exporter": "python",
   "pygments_lexer": "ipython3",
   "version": "3.9.13"
  }
 },
 "nbformat": 4,
 "nbformat_minor": 5
}
