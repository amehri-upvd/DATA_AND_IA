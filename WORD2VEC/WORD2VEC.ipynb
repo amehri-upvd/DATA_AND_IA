{
 "cells": [
  {
   "cell_type": "raw",
   "id": "b5848cf3",
   "metadata": {},
   "source": [
    "TP n° 1 : Génération d'embeddings Word2Vec                  \n",
    "\n",
    "- L'objectif de ce TP est de générer des représentations vectorielle (embeddings) pour des mots à l'aide de Word2Vec\n",
    "- Comme on a vu dans le cours Word2Vec est un modèle de génération des plongements lexicaux.\n",
    "- Word2Vec a deux algorithmes CBOW, prédiction du mot à partir du context, et Skip-gram, prédiction du context à partir d'un mot.\n",
    "\n"
   ]
  },
  {
   "cell_type": "code",
   "execution_count": 1,
   "id": "cac2a180-383d-4cb8-ac2b-8aa41031ef9f",
   "metadata": {},
   "outputs": [
    {
     "name": "stdout",
     "output_type": "stream",
     "text": [
      "words_CBOW: \n",
      " ['sentence', 'the', 'is', 'this', 'final', 'and', 'more', 'one', 'another', 'yet', 'second', 'word2vec', 'for', 'first']\n",
      "words_skipgram: \n",
      " ['sentence', 'the', 'is', 'this', 'final', 'and', 'more', 'one', 'another', 'yet', 'second', 'word2vec', 'for', 'first']\n"
     ]
    }
   ],
   "source": [
    "# on fait des installatiosn des bibliothèques nécessaire avec pip install\n",
    "# on fait une importation de nos bibliothèques\n",
    "import gensim # traitement des corpus\n",
    "from gensim.models import Word2Vec # formation des modèles word2vec\n",
    "from sklearn.metrics.pairwise import cosine_similarity #calcule la similarité entre deux vecteurs\n",
    "import matplotlib.pyplot as plt #traçage des figures et courbes\n",
    "from sklearn.decomposition import PCA #réduction des dimensions des données\n",
    "from gensim.models import KeyedVectors #manipulation des vecteurs \n",
    "\n",
    "# 1)\n",
    "#on a une liste tokonisée (le text est divisé en des mots)\n",
    "liste = [['this', 'is', 'the', 'first', 'sentence', 'for', 'word2vec'],\n",
    "['this', 'is', 'the', 'second', 'sentence'],\n",
    "['yet', 'another', 'sentence'],\n",
    "['one', 'more', 'sentence'],\n",
    "['and', 'the', 'final', 'sentence']]\n",
    "\n",
    "# On va générer les embeddings des mots contenus dans ce texte avec CBOW et Skip-gram\n",
    "# modèle Word2Vec avec CBOW\n",
    "model_CBOW = Word2Vec(liste, vector_size=10, window=5, min_count=1, sg=0)\n",
    "words_CBOW = list(model_CBOW.wv.key_to_index)\n",
    "print(\"words_CBOW: \\n\",words_CBOW)\n",
    "\n",
    "#modèle Word2vec avec skip-gram\n",
    "model_skipgram = Word2Vec(liste, vector_size=10, window=5, min_count=1,sg=1)\n",
    "words_skipgram = list(model_skipgram.wv.key_to_index)\n",
    "print(\"words_skipgram: \\n\",words_skipgram)\n",
    "\n",
    "\n"
   ]
  },
  {
   "cell_type": "code",
   "execution_count": 2,
   "id": "348a84cb",
   "metadata": {},
   "outputs": [
    {
     "data": {
      "text/plain": [
       "(27, 220)"
      ]
     },
     "execution_count": 2,
     "metadata": {},
     "output_type": "execute_result"
    }
   ],
   "source": [
    "# Construction du vocabulaire pour cbow\n",
    "model_CBOW.build_vocab(liste)\n",
    "\n",
    "# Construction du vocabulaire pour skipgram\n",
    "model_skipgram.build_vocab(liste)\n",
    "\n",
    "# Entraînement du modèle cbow \n",
    "model_CBOW.train(liste, total_examples=model_CBOW.corpus_count, epochs=10)\n",
    "\n",
    "# Entraînement du modèle skipgram \n",
    "model_skipgram.train(liste, total_examples=model_skipgram.corpus_count, epochs=10)\n"
   ]
  },
  {
   "cell_type": "code",
   "execution_count": 3,
   "id": "a96e192f",
   "metadata": {},
   "outputs": [
    {
     "name": "stdout",
     "output_type": "stream",
     "text": [
      "Embedding  du mot another avec cbow : \n",
      " [ 0.01631471  0.00190235  0.03474415  0.00218555  0.09618734  0.05061083\n",
      " -0.08917218 -0.0704247   0.00901168  0.06393624]\n",
      "Embedding  du mot another avec skipgram : \n",
      " [ 0.01631517  0.00190084  0.03474126  0.00218178  0.09619039  0.05060984\n",
      " -0.08917545 -0.07042213  0.00901334  0.0639326 ]\n"
     ]
    }
   ],
   "source": [
    "#2) a) Embedding du mot another\n",
    "# avec cbow\n",
    "embedding1 = model_CBOW.wv['another']\n",
    "print(\"Embedding  du mot another avec cbow : \\n\",embedding1)\n",
    "\n",
    "# avec skipgram\n",
    "embedding2 = model_skipgram.wv['another']\n",
    "print(\"Embedding  du mot another avec skipgram : \\n\", embedding2)"
   ]
  },
  {
   "cell_type": "code",
   "execution_count": 4,
   "id": "c7d82848-3350-4d21-915f-0a95ced43e65",
   "metadata": {
    "tags": []
   },
   "outputs": [
    {
     "name": "stdout",
     "output_type": "stream",
     "text": [
      "Pour CBOW, la similarité entre les mots word2vec et another  : -0.19866976\n",
      "Pour CBOW, la similarité  entre les 2 mots word2vec et first :  -0.11387495\n"
     ]
    }
   ],
   "source": [
    "#b)calcule de la similarité  Pour Cbow\n",
    "# entre les 2 mots \"word2vec\" et \"another\"\n",
    "similarity_cbow_another = model_CBOW.wv.similarity('word2vec', 'another')\n",
    "print(\"Pour CBOW, la similarité entre les mots word2vec et another  :\", similarity_cbow_another)\n",
    "\n",
    "# entre les 2 mots \"word2vec\" et \"first\"\n",
    "similarity_cbow_first = model_CBOW.wv.similarity('word2vec', 'first')\n",
    "print(\"Pour CBOW, la similarité  entre les 2 mots word2vec et first : \", similarity_cbow_first)\n"
   ]
  },
  {
   "cell_type": "code",
   "execution_count": 5,
   "id": "fca6d16c",
   "metadata": {},
   "outputs": [
    {
     "name": "stdout",
     "output_type": "stream",
     "text": [
      "Pour SKIPGRAM, la similarité entre les mots word2vec et another  : -0.19866976\n",
      "Pour SKIPGRAM, la similarité  entre les 2 mots word2vec et first :  -0.11387495\n"
     ]
    }
   ],
   "source": [
    "#b)calcule de la similarité  Pour skipgram\n",
    "# entre les 2 mots \"word2vec\" et \"another\"\n",
    "similarity_skipgram_another = model_CBOW.wv.similarity('word2vec', 'another')\n",
    "print(\"Pour SKIPGRAM, la similarité entre les mots word2vec et another  :\", similarity_skipgram_another)\n",
    "\n",
    "# entre les 2 mots \"word2vec\" et \"first\"\n",
    "similarity_skipgram_first = model_CBOW.wv.similarity('word2vec', 'first')\n",
    "print(\"Pour SKIPGRAM, la similarité  entre les 2 mots word2vec et first : \", similarity_skipgram_first)"
   ]
  },
  {
   "cell_type": "code",
   "execution_count": 6,
   "id": "98086d80-d528-451a-bd68-8c4081065e2e",
   "metadata": {},
   "outputs": [
    {
     "name": "stdout",
     "output_type": "stream",
     "text": [
      "Pour CBOW, les mots les plus similaires à word2vec sont: \n",
      " [('sentence', 0.6143982410430908), ('and', 0.38640597462654114), ('final', 0.2201724797487259), ('second', 0.197344109416008), ('more', 0.11534234881401062), ('for', -0.042645346373319626), ('the', -0.08938948810100555), ('first', -0.11387497931718826), ('is', -0.17998702824115753), ('this', -0.18975558876991272)]\n"
     ]
    }
   ],
   "source": [
    "#c) les mots les plus similaires à word2vec\n",
    "\n",
    "# avec cbow\n",
    "plus_similaire_word2vec_cbow = model_CBOW.wv.most_similar('word2vec')\n",
    "print(\"Pour CBOW, les mots les plus similaires à word2vec sont: \\n\", plus_similaire_word2vec_cbow)\n"
   ]
  },
  {
   "cell_type": "code",
   "execution_count": 7,
   "id": "f5093302",
   "metadata": {},
   "outputs": [
    {
     "name": "stdout",
     "output_type": "stream",
     "text": [
      " Pour SKIPGRAM, les mots les plus similaires à word2vec  sont : \n",
      " [('sentence', 0.614398181438446), ('and', 0.38595545291900635), ('final', 0.22056637704372406), ('second', 0.197344109416008), ('more', 0.11534234881401062), ('for', -0.042645346373319626), ('the', -0.08938972651958466), ('first', -0.11387497931718826), ('is', -0.17998702824115753), ('this', -0.18972058594226837)]\n"
     ]
    }
   ],
   "source": [
    "# avec skipgram\n",
    "plus_similaire_word2vec_skipgram = model_skipgram.wv.most_similar('word2vec')\n",
    "print(\" Pour SKIPGRAM, les mots les plus similaires à word2vec  sont : \\n\", plus_similaire_word2vec_skipgram)\n"
   ]
  },
  {
   "cell_type": "code",
   "execution_count": 8,
   "id": "53f5eabc",
   "metadata": {},
   "outputs": [
    {
     "name": "stdout",
     "output_type": "stream",
     "text": [
      " Pour CBOW, les mots les plus similaires à this sont : \n",
      " [('is', 0.5436176061630249), ('one', 0.43180742859840393), ('yet', 0.379301518201828), ('the', 0.30043497681617737), ('more', 0.22743220627307892), ('first', 0.1049535870552063), ('second', -0.13110800087451935), ('word2vec', -0.1897556185722351), ('sentence', -0.22422084212303162), ('final', -0.23739895224571228)]\n"
     ]
    }
   ],
   "source": [
    "#C) les mots les plus similaires à this\n",
    "# avec cbow\n",
    "plus_similaire_this_cbow = model_CBOW.wv.most_similar('this')\n",
    "print(\" Pour CBOW, les mots les plus similaires à this sont : \\n\", plus_similaire_this_cbow )"
   ]
  },
  {
   "cell_type": "code",
   "execution_count": 9,
   "id": "c7dfe9c2",
   "metadata": {},
   "outputs": [
    {
     "name": "stdout",
     "output_type": "stream",
     "text": [
      "Pour SKIPGRAM Les mots les plus similaires à this sont: \n",
      " [('is', 0.5436176061630249), ('one', 0.43180742859840393), ('yet', 0.379301518201828), ('the', 0.30043497681617737), ('more', 0.22743220627307892), ('first', 0.1049535870552063), ('second', -0.13110800087451935), ('word2vec', -0.1897556185722351), ('sentence', -0.22422084212303162), ('final', -0.23739895224571228)]\n"
     ]
    }
   ],
   "source": [
    "# avec skipgram\n",
    "plus_similaire_this_skipgram = model_CBOW.wv.most_similar('this')\n",
    "print(\"Pour SKIPGRAM Les mots les plus similaires à this sont: \\n\", plus_similaire_this_skipgram )"
   ]
  },
  {
   "cell_type": "code",
   "execution_count": 10,
   "id": "b1c324bf-9301-463e-9203-8ca61f78e597",
   "metadata": {
    "tags": []
   },
   "outputs": [
    {
     "name": "stdout",
     "output_type": "stream",
     "text": [
      "Pour CBOW, la matrice de similarité est : \n",
      "  [[ 1.         -0.3208028  -0.53818405 -0.22422084  0.11170702  0.14213069\n",
      "  -0.06571346  0.02682807  0.04261865 -0.30176383 -0.28786665  0.61439824\n",
      "   0.24953832 -0.36627138]\n",
      " [-0.3208028   1.0000001   0.32936347  0.300435   -0.06321471  0.30014688\n",
      "  -0.04375133  0.47055006  0.05539995 -0.11288689  0.427315   -0.0893895\n",
      "  -0.15168385 -0.105497  ]\n",
      " [-0.53818405  0.32936347  1.          0.54361755 -0.32143232 -0.5370016\n",
      "   0.35868835  0.03376541 -0.5145714   0.03525327  0.23243055 -0.17998704\n",
      "  -0.3820523  -0.21133739]\n",
      " [-0.22422084  0.300435    0.54361755  1.         -0.23739895 -0.37953365\n",
      "   0.22743222  0.4318074  -0.72870946  0.3793015  -0.13110799 -0.1897556\n",
      "  -0.27261367  0.10495356]\n",
      " [ 0.11170702 -0.06321471 -0.32143232 -0.23739895  0.9999999   0.43412143\n",
      "   0.20961456 -0.44068396  0.07342476 -0.10831     0.07656562  0.22017248\n",
      "  -0.09990796 -0.19239052]\n",
      " [ 0.14213069  0.30014688 -0.5370016  -0.37953365  0.43412143  0.99999994\n",
      "  -0.10119124 -0.09833501  0.51111543 -0.25351566 -0.02794279  0.38640594\n",
      "  -0.05880436  0.0574212 ]\n",
      " [-0.06571346 -0.04375133  0.35868835  0.22743222  0.20961456 -0.10119124\n",
      "   1.          0.09823874 -0.22643675  0.01448792 -0.15089592  0.11534239\n",
      "  -0.06095493 -0.31059077]\n",
      " [ 0.02682807  0.47055006  0.03376541  0.4318074  -0.44068396 -0.09833501\n",
      "   0.09823874  0.9999999  -0.15251163 -0.08308958  0.05100007 -0.24684553\n",
      "   0.22384942  0.19903588]\n",
      " [ 0.04261865  0.05539995 -0.5145714  -0.72870946  0.07342476  0.51111543\n",
      "  -0.22643675 -0.15251163  0.9999999  -0.02166696 -0.21802166 -0.19866976\n",
      "   0.29144052 -0.23155242]\n",
      " [-0.30176383 -0.11288689  0.03525327  0.3793015  -0.10831    -0.25351566\n",
      "   0.01448792 -0.08308958 -0.02166696  1.         -0.27751082 -0.39017743\n",
      "   0.27556223  0.20713213]\n",
      " [-0.28786665  0.427315    0.23243055 -0.13110799  0.07656562 -0.02794279\n",
      "  -0.15089592  0.05100007 -0.21802166 -0.27751082  1.          0.1973441\n",
      "  -0.02181698  0.29412234]\n",
      " [ 0.61439824 -0.0893895  -0.17998704 -0.1897556   0.22017248  0.38640594\n",
      "   0.11534239 -0.24684553 -0.19866976 -0.39017743  0.1973441   1.\n",
      "  -0.04264532 -0.11387496]\n",
      " [ 0.24953832 -0.15168385 -0.3820523  -0.27261367 -0.09990796 -0.05880436\n",
      "  -0.06095493  0.22384942  0.29144052  0.27556223 -0.02181698 -0.04264532\n",
      "   1.          0.09267308]\n",
      " [-0.36627138 -0.105497   -0.21133739  0.10495356 -0.19239052  0.0574212\n",
      "  -0.31059077  0.19903588 -0.23155242  0.20713213  0.29412234 -0.11387496\n",
      "   0.09267308  0.9999999 ]]\n"
     ]
    }
   ],
   "source": [
    "#d)Matrice de similarité\n",
    "#Pour CBOW\n",
    "vectors1 = [model_CBOW.wv[mot] for mot in words_CBOW]\n",
    "matrice_de_similarité = cosine_similarity(vectors1)\n",
    "print(\"Pour CBOW, la matrice de similarité est : \\n \", matrice_de_similarité)"
   ]
  },
  {
   "cell_type": "code",
   "execution_count": 11,
   "id": "2de35fc5",
   "metadata": {},
   "outputs": [
    {
     "name": "stdout",
     "output_type": "stream",
     "text": [
      "Pour SKIPGRAM, la matrice de similarité est : \n",
      "  [[ 0.99999994 -0.32081592 -0.53818405 -0.22414795  0.11232167  0.1414483\n",
      "  -0.06571342  0.02718726  0.04263292 -0.30176383 -0.28786665  0.6143982\n",
      "   0.2495383  -0.36627138]\n",
      " [-0.32081592  0.99999994  0.32938325  0.3004356  -0.06352445  0.30048344\n",
      "  -0.04377504  0.47041878  0.05541641 -0.11287951  0.42731202 -0.08938974\n",
      "  -0.1516906  -0.10549209]\n",
      " [-0.53818405  0.32938325  1.          0.54357225 -0.3217354  -0.53670233\n",
      "   0.35868835  0.03357159 -0.5145726   0.03525324  0.23243055 -0.17998704\n",
      "  -0.3820523  -0.21133739]\n",
      " [-0.22414795  0.3004356   0.54357225  0.9999999  -0.2375541  -0.37929782\n",
      "   0.22743922  0.43176794 -0.72872794  0.3792711  -0.13112015 -0.18972057\n",
      "  -0.27258673  0.10493289]\n",
      " [ 0.11232167 -0.06352445 -0.3217354  -0.2375541   1.0000001   0.43429527\n",
      "   0.20953187 -0.44070184  0.07346813 -0.10847534  0.07636635  0.22056639\n",
      "  -0.09976764 -0.19262445]\n",
      " [ 0.1414483   0.30048344 -0.53670233 -0.37929782  0.43429527  0.9999999\n",
      "  -0.10103928 -0.09815685  0.5110665  -0.253354   -0.02769123  0.38595542\n",
      "  -0.05895279  0.0576784 ]\n",
      " [-0.06571342 -0.04377504  0.35868835  0.22743922  0.20953187 -0.10103928\n",
      "   1.          0.09821421 -0.22643726  0.0144879  -0.15089592  0.11534239\n",
      "  -0.06095493 -0.31059077]\n",
      " [ 0.02718726  0.47041878  0.03357159  0.43176794 -0.44070184 -0.09815685\n",
      "   0.09821421  0.9999999  -0.15249068 -0.08319721  0.05089613 -0.24662225\n",
      "   0.2239369   0.1989023 ]\n",
      " [ 0.04263292  0.05541641 -0.5145726  -0.72872794  0.07346813  0.5110665\n",
      "  -0.22643726 -0.15249068  1.0000001  -0.02171455 -0.21800824 -0.19865105\n",
      "   0.29142714 -0.23156206]\n",
      " [-0.30176383 -0.11287951  0.03525324  0.3792711  -0.10847534 -0.253354\n",
      "   0.0144879  -0.08319721 -0.02171455  1.         -0.27751082 -0.39017743\n",
      "   0.2755622   0.20713218]\n",
      " [-0.28786665  0.42731202  0.23243055 -0.13112015  0.07636635 -0.02769123\n",
      "  -0.15089592  0.05089613 -0.21800824 -0.27751082  1.          0.1973441\n",
      "  -0.02181698  0.29412234]\n",
      " [ 0.6143982  -0.08938974 -0.17998704 -0.18972057  0.22056639  0.38595542\n",
      "   0.11534239 -0.24662225 -0.19865105 -0.39017743  0.1973441   1.\n",
      "  -0.04264532 -0.11387496]\n",
      " [ 0.2495383  -0.1516906  -0.3820523  -0.27258673 -0.09976764 -0.05895279\n",
      "  -0.06095493  0.2239369   0.29142714  0.2755622  -0.02181698 -0.04264532\n",
      "   1.          0.09267308]\n",
      " [-0.36627138 -0.10549209 -0.21133739  0.10493289 -0.19262445  0.0576784\n",
      "  -0.31059077  0.1989023  -0.23156206  0.20713218  0.29412234 -0.11387496\n",
      "   0.09267308  0.9999999 ]]\n"
     ]
    }
   ],
   "source": [
    "#Pour SKIPGRAM\n",
    "vectors2 = [model_skipgram.wv[mot] for mot in words_skipgram]\n",
    "matrice_de_similarité = cosine_similarity(vectors2)\n",
    "print(\"Pour SKIPGRAM, la matrice de similarité est : \\n \", matrice_de_similarité)"
   ]
  },
  {
   "cell_type": "code",
   "execution_count": 12,
   "id": "61bca2a4-6d7d-496d-88da-d27fb02b8bdc",
   "metadata": {
    "tags": []
   },
   "outputs": [
    {
     "data": {
      "image/png": "[encoded data removed]",
      "text/plain": [
       "<Figure size 1080x576 with 1 Axes>"
      ]
     },
     "metadata": {
      "needs_background": "light"
     },
     "output_type": "display_data"
    }
   ],
   "source": [
    "# 3 ) Réduction des dimensions des vecteurs de mot avec la technique ACP pour la visualisation\n",
    "# avec CBOW\n",
    "pca = PCA(n_components=2)\n",
    "embeddings_CBOW_pca = pca.fit_transform(vectors1)\n",
    "\n",
    "# Tracàge des embeddings réduits en 2 dimensions\n",
    "plt.figure(figsize=(15, 8))\n",
    "plt.scatter(embeddings_CBOW_pca[:, 0], embeddings_CBOW_pca[:, 1])\n",
    "for i, mot in enumerate(words_CBOW):\n",
    "    plt.annotate(mot, (embeddings_CBOW_pca[i, 0], embeddings_CBOW_pca[i, 1]))\n",
    "plt.title(\"Embeddings Word2Vec CBOW (with PCA)\")\n",
    "plt.show()"
   ]
  },
  {
   "cell_type": "code",
   "execution_count": 13,
   "id": "0deb4309-31b4-4599-a9eb-31d412897e6c",
   "metadata": {
    "tags": []
   },
   "outputs": [
    {
     "data": {
      "image/png": "[encoded data removed]",
      "text/plain": [
       "<Figure size 1080x576 with 1 Axes>"
      ]
     },
     "metadata": {
      "needs_background": "light"
     },
     "output_type": "display_data"
    }
   ],
   "source": [
    "# avec SKIPGRAM\n",
    "pca = PCA(n_components=2)\n",
    "embeddings_skipgram_pca = pca.fit_transform(vectors2)\n",
    "\n",
    "# Tracàge des embeddings réduits en 2 dimensions\n",
    "plt.figure(figsize=(15, 8))\n",
    "plt.scatter(embeddings_skipgram_pca[:, 0], embeddings_skipgram_pca[:, 1])\n",
    "for i, mot in enumerate(words_CBOW):\n",
    "    plt.annotate(mot, (embeddings_skipgram_pca[i, 0], embeddings_skipgram_pca[i, 1]))\n",
    "plt.title(\"Embeddings Word2Vec SKIPGRAM (with PCA)\")\n",
    "plt.show()"
   ]
  },
  {
   "cell_type": "code",
   "execution_count": 14,
   "id": "5f9a922c-961e-43ef-8b39-02e5dd3ae0d5",
   "metadata": {
    "tags": []
   },
   "outputs": [],
   "source": [
    "corpus = []\n",
    "with open('eng_news_2020_300K-sentences.txt', 'r', encoding='utf-8') as file:\n",
    "    for line in file:\n",
    "        mots = line.strip().split()\n",
    "        corpus.append(mots)"
   ]
  },
  {
   "cell_type": "code",
   "execution_count": 15,
   "id": "efe2f61c-6169-4312-a40c-cec5eae498c9",
   "metadata": {
    "tags": []
   },
   "outputs": [
    {
     "data": {
      "text/plain": [
       "(7060910, 8510585)"
      ]
     },
     "execution_count": 15,
     "metadata": {},
     "output_type": "execute_result"
    }
   ],
   "source": [
    "# Le nouveau modèle Word2Vec avec CBOW\n",
    "word2vec_modelcbow = Word2Vec(sentences=corpus, vector_size=100, window=5, min_count=1, sg=0)\n",
    "\n",
    "# Entraîneement un modèle Word2Vec sur le corpus\n",
    "word2vec_modelcbow.build_vocab(corpus, update=True)\n",
    "word2vec_modelcbow.train(corpus, total_examples=word2vec_modelcbow.corpus_count, epochs=5)"
   ]
  },
  {
   "cell_type": "code",
   "execution_count": 16,
   "id": "bca2a572-f1a7-489a-acbc-53f5f300b7ad",
   "metadata": {
    "tags": []
   },
   "outputs": [
    {
     "data": {
      "text/plain": [
       "(7061255, 8510585)"
      ]
     },
     "execution_count": 16,
     "metadata": {},
     "output_type": "execute_result"
    }
   ],
   "source": [
    "# Le nouveau modèle Word2Vec avec SKIPGRAM\n",
    "word2vec_modelskipgram = Word2Vec(sentences=corpus, vector_size=100, window=5, min_count=1, sg=1)\n",
    "\n",
    "# Entraîneement un modèle Word2Vec sur le corpus\n",
    "word2vec_modelskipgram.build_vocab(corpus, update=True)\n",
    "word2vec_modelskipgram.train(corpus, total_examples=word2vec_modelskipgram.corpus_count, epochs=5)"
   ]
  },
  {
   "cell_type": "code",
   "execution_count": 17,
   "id": "9a221b7c-36db-4d89-8549-1e48f67450e8",
   "metadata": {
    "tags": []
   },
   "outputs": [],
   "source": [
    "#Sauvegarder les embeddings pour cbow\n",
    "word2vec_modelcbow.wv.save_word2vec_format('embeddings_cbow_2020.txt')\n",
    "#Sauvegarder les embeddings pour skipgram\n",
    "word2vec_modelcbow.wv.save_word2vec_format('embeddings_skipgram_2020.txt')"
   ]
  },
  {
   "cell_type": "code",
   "execution_count": 18,
   "id": "c2176270",
   "metadata": {},
   "outputs": [
    {
     "name": "stdout",
     "output_type": "stream",
     "text": [
      "Embedding du mot 2020 avec cbow: \n",
      " [-1.4435745   2.4550383  -0.07836211  1.4850693  -0.27437443 -0.4480658\n",
      "  0.8611149   1.7167637  -1.3745708   0.47831774  0.2976563   0.93341327\n",
      " -0.2916408  -0.23647922 -0.07943607 -1.0201508   1.7175137  -1.0819768\n",
      " -1.1831558  -3.9726384  -0.1701204   0.58391756  1.3770503   0.86759776\n",
      " -0.12649213 -1.0724121  -3.1983643  -0.04458907 -0.80558294  0.7767814\n",
      "  1.2649263  -0.6105665  -1.877079   -0.41504624  0.10013568  1.9530504\n",
      " -0.9373914   2.0009146   0.5173509  -0.5199951   0.31397974  0.9026467\n",
      " -2.2132194  -0.8254443  -0.09413231 -1.9004512  -0.90209097 -0.7981672\n",
      " -0.6457992   2.390679    1.2002811   1.8599533  -0.7965644   0.8291905\n",
      " -0.35739464  0.042537    0.49135083 -1.4959658  -2.3145728  -1.8221409\n",
      "  0.779505   -2.6985261   1.1443448  -3.1760905   0.59231114 -0.09682286\n",
      "  1.3556898  -2.2406626   0.07136609  0.446436   -0.7801519   0.8511801\n",
      " -1.2083977   0.13447419 -0.51306397  0.80812836 -1.5748507  -0.21270646\n",
      "  1.1962934   2.2385824   0.8344518   0.46228477 -0.01230575 -0.75407684\n",
      " -2.5515466  -0.751446   -0.29577497  0.27779722 -0.23218575  0.45394868\n",
      "  1.3388478  -0.11976487  0.5639014  -1.8962238   2.8544097  -1.0047487\n",
      "  0.03965974 -1.5043541  -2.092016   -0.1942445 ]\n"
     ]
    }
   ],
   "source": [
    "# Embedding du mot the avec cbow\n",
    "embeddingthe1 = word2vec_modelcbow.wv['2020']\n",
    "print(\"Embedding du mot 2020 avec cbow: \\n\",embeddingthe1)"
   ]
  },
  {
   "cell_type": "code",
   "execution_count": 19,
   "id": "dd6ef9f6-3a5f-436a-ac4f-4e0ff301621b",
   "metadata": {
    "tags": []
   },
   "outputs": [
    {
     "name": "stdout",
     "output_type": "stream",
     "text": [
      "Embedding du mot 2020 avec skipgram: \n",
      " [-1.4435745   2.4550383  -0.07836211  1.4850693  -0.27437443 -0.4480658\n",
      "  0.8611149   1.7167637  -1.3745708   0.47831774  0.2976563   0.93341327\n",
      " -0.2916408  -0.23647922 -0.07943607 -1.0201508   1.7175137  -1.0819768\n",
      " -1.1831558  -3.9726384  -0.1701204   0.58391756  1.3770503   0.86759776\n",
      " -0.12649213 -1.0724121  -3.1983643  -0.04458907 -0.80558294  0.7767814\n",
      "  1.2649263  -0.6105665  -1.877079   -0.41504624  0.10013568  1.9530504\n",
      " -0.9373914   2.0009146   0.5173509  -0.5199951   0.31397974  0.9026467\n",
      " -2.2132194  -0.8254443  -0.09413231 -1.9004512  -0.90209097 -0.7981672\n",
      " -0.6457992   2.390679    1.2002811   1.8599533  -0.7965644   0.8291905\n",
      " -0.35739464  0.042537    0.49135083 -1.4959658  -2.3145728  -1.8221409\n",
      "  0.779505   -2.6985261   1.1443448  -3.1760905   0.59231114 -0.09682286\n",
      "  1.3556898  -2.2406626   0.07136609  0.446436   -0.7801519   0.8511801\n",
      " -1.2083977   0.13447419 -0.51306397  0.80812836 -1.5748507  -0.21270646\n",
      "  1.1962934   2.2385824   0.8344518   0.46228477 -0.01230575 -0.75407684\n",
      " -2.5515466  -0.751446   -0.29577497  0.27779722 -0.23218575  0.45394868\n",
      "  1.3388478  -0.11976487  0.5639014  -1.8962238   2.8544097  -1.0047487\n",
      "  0.03965974 -1.5043541  -2.092016   -0.1942445 ]\n"
     ]
    }
   ],
   "source": [
    "# Embedding du mot the avec skipgram\n",
    "embeddingthe2 = word2vec_modelcbow.wv['2020']\n",
    "print(\"Embedding du mot 2020 avec skipgram: \\n\",embeddingthe2)"
   ]
  },
  {
   "cell_type": "code",
   "execution_count": 20,
   "id": "9b7d3797-5a31-4e24-bfb6-fe9b835609e9",
   "metadata": {
    "tags": []
   },
   "outputs": [
    {
     "name": "stdout",
     "output_type": "stream",
     "text": [
      "ce mot est similaire au mot trump: Biden, avec une Similarité  : 0.9404473900794983\n",
      "ce mot est similaire au mot trump: Trump’s, avec une Similarité  : 0.7937441468238831\n",
      "ce mot est similaire au mot trump: campaign, avec une Similarité  : 0.7922419905662537\n",
      "ce mot est similaire au mot trump: administration, avec une Similarité  : 0.7733782529830933\n",
      "ce mot est similaire au mot trump: President, avec une Similarité  : 0.7730288505554199\n",
      "ce mot est similaire au mot trump: Trump., avec une Similarité  : 0.7614356875419617\n",
      "ce mot est similaire au mot trump: Donald, avec une Similarité  : 0.7591118216514587\n",
      "ce mot est similaire au mot trump: Mr., avec une Similarité  : 0.7577267289161682\n",
      "ce mot est similaire au mot trump: Trump,, avec une Similarité  : 0.7437447309494019\n",
      "ce mot est similaire au mot trump: president, avec une Similarité  : 0.7313435077667236\n",
      "ce mot est similaire au mot trump: Trump's, avec une Similarité  : 0.722245454788208\n",
      "ce mot est similaire au mot trump: 54398, avec une Similarité  : 0.7165996432304382\n",
      "ce mot est similaire au mot trump: Sanders, avec une Similarité  : 0.7040392756462097\n",
      "ce mot est similaire au mot trump: Obama, avec une Similarité  : 0.7025783658027649\n",
      "ce mot est similaire au mot trump: Mr, avec une Similarité  : 0.6945854425430298\n",
      "ce mot est similaire au mot trump: he, avec une Similarité  : 0.6936619877815247\n",
      "ce mot est similaire au mot trump: Senate, avec une Similarité  : 0.6909461617469788\n",
      "ce mot est similaire au mot trump: Norcross,, avec une Similarité  : 0.6827569007873535\n",
      "ce mot est similaire au mot trump: court, avec une Similarité  : 0.6760398149490356\n",
      "ce mot est similaire au mot trump: Buhari, avec une Similarité  : 0.6738978028297424\n"
     ]
    }
   ],
   "source": [
    "#avec cbow\n",
    "# Charger les embeddings sauvegardés\n",
    "embeddings_trump_cbow = KeyedVectors.load_word2vec_format('embeddings_cbow_2020.txt')\n",
    "\n",
    "# on cherche les mots les plus proches de \"Trump\"\n",
    "similar_words = embeddings_trump_cbow.most_similar('Trump', topn=20)\n",
    "\n",
    "# on affichage les 20 mots similaires\n",
    "for word, score in similar_words:\n",
    "    print(f\"ce mot est similaire au mot trump: {word}, avec une Similarité  : {score}\")"
   ]
  },
  {
   "cell_type": "code",
   "execution_count": 21,
   "id": "25617e36",
   "metadata": {},
   "outputs": [
    {
     "name": "stdout",
     "output_type": "stream",
     "text": [
      "ce mot est similaire au mot trump: Biden, avec une Similarité  : 0.9404473900794983\n",
      "ce mot est similaire au mot trump: Trump’s, avec une Similarité  : 0.7937441468238831\n",
      "ce mot est similaire au mot trump: campaign, avec une Similarité  : 0.7922419905662537\n",
      "ce mot est similaire au mot trump: administration, avec une Similarité  : 0.7733782529830933\n",
      "ce mot est similaire au mot trump: President, avec une Similarité  : 0.7730288505554199\n",
      "ce mot est similaire au mot trump: Trump., avec une Similarité  : 0.7614356875419617\n",
      "ce mot est similaire au mot trump: Donald, avec une Similarité  : 0.7591118216514587\n",
      "ce mot est similaire au mot trump: Mr., avec une Similarité  : 0.7577267289161682\n",
      "ce mot est similaire au mot trump: Trump,, avec une Similarité  : 0.7437447309494019\n",
      "ce mot est similaire au mot trump: president, avec une Similarité  : 0.7313435077667236\n",
      "ce mot est similaire au mot trump: Trump's, avec une Similarité  : 0.722245454788208\n",
      "ce mot est similaire au mot trump: 54398, avec une Similarité  : 0.7165996432304382\n",
      "ce mot est similaire au mot trump: Sanders, avec une Similarité  : 0.7040392756462097\n",
      "ce mot est similaire au mot trump: Obama, avec une Similarité  : 0.7025783658027649\n",
      "ce mot est similaire au mot trump: Mr, avec une Similarité  : 0.6945854425430298\n",
      "ce mot est similaire au mot trump: he, avec une Similarité  : 0.6936619877815247\n",
      "ce mot est similaire au mot trump: Senate, avec une Similarité  : 0.6909461617469788\n",
      "ce mot est similaire au mot trump: Norcross,, avec une Similarité  : 0.6827569007873535\n",
      "ce mot est similaire au mot trump: court, avec une Similarité  : 0.6760398149490356\n",
      "ce mot est similaire au mot trump: Buhari, avec une Similarité  : 0.6738978028297424\n"
     ]
    }
   ],
   "source": [
    "#avec skipgram\n",
    "# Charger les embeddings sauvegardés\n",
    "embeddings_trump_skipgram = KeyedVectors.load_word2vec_format('embeddings_skipgram_2020.txt')\n",
    "\n",
    "# on cherche les mots les plus proches de \"Trump\"\n",
    "similar_words = embeddings_trump_skipgram.most_similar('Trump', topn=20)\n",
    "\n",
    "# on affichage les 20 mots similaires\n",
    "for word, score in similar_words:\n",
    "    print(f\"ce mot est similaire au mot trump: {word}, avec une Similarité  : {score}\")"
   ]
  },
  {
   "cell_type": "code",
   "execution_count": null,
   "id": "23bfa7dd-dd7c-438d-970e-a783873a10b6",
   "metadata": {
    "tags": []
   },
   "outputs": [],
   "source": []
  },
  {
   "cell_type": "code",
   "execution_count": null,
   "id": "540d3293-b122-4aa7-adf5-f15121483c53",
   "metadata": {
    "tags": []
   },
   "outputs": [],
   "source": []
  },
  {
   "cell_type": "code",
   "execution_count": null,
   "id": "3592538f-f86d-449d-bda6-73a4963b2336",
   "metadata": {},
   "outputs": [],
   "source": []
  }
 ],
 "metadata": {
  "kernelspec": {
   "display_name": "Python 3 (ipykernel)",
   "language": "python",
   "name": "python3"
  },
  "language_info": {
   "codemirror_mode": {
    "name": "ipython",
    "version": 3
   },
   "file_extension": ".py",
   "mimetype": "text/x-python",
   "name": "python",
   "nbconvert_exporter": "python",
   "pygments_lexer": "ipython3",
   "version": "3.9.13"
  }
 },
 "nbformat": 4,
 "nbformat_minor": 5
}
